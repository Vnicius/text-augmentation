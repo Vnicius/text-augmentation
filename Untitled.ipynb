{
 "cells": [
  {
   "cell_type": "code",
   "execution_count": 2,
   "metadata": {},
   "outputs": [],
   "source": [
    "from keras.utils import to_categorical\n",
    "from keras.models import Sequential\n",
    "from keras.layers import Dense, LSTM, Activation,Embedding\n",
    "from keras.layers import Bidirectional\n",
    "import numpy as np\n",
    "import heapq"
   ]
  },
  {
   "cell_type": "code",
   "execution_count": 3,
   "metadata": {},
   "outputs": [],
   "source": [
    "texts = [\"Eu sou um texto\", \"texto sou eu\", \"minha casa\", \"com Texto\"]\n",
    "texts = [t.lower() for t in texts]"
   ]
  },
  {
   "cell_type": "code",
   "execution_count": 9,
   "metadata": {},
   "outputs": [],
   "source": [
    "words = set(['<PAD>'])\n",
    "\n",
    "for line in texts:\n",
    "    for word in line.split(' '):\n",
    "        words.add(word)"
   ]
  },
  {
   "cell_type": "code",
   "execution_count": 10,
   "metadata": {},
   "outputs": [
    {
     "name": "stdout",
     "output_type": "stream",
     "text": [
      "{'minha': 0, '<PAD>': 1, 'sou': 2, 'com': 3, 'um': 4, 'eu': 5, 'texto': 6, 'casa': 7}\n"
     ]
    }
   ],
   "source": [
    "word_to_int = {}\n",
    "int_to_word = {}\n",
    "\n",
    "for word in words:\n",
    "    word_to_int[word] = len(word_to_int)\n",
    "    int_to_word[len(int_to_word)] = word\n",
    "\n",
    "print(word_to_int)"
   ]
  },
  {
   "cell_type": "code",
   "execution_count": 11,
   "metadata": {},
   "outputs": [],
   "source": [
    "def text_to_int(text):\n",
    "    return [word_to_int[word] for word in text.split(' ')]\n",
    "\n",
    "def int_seq_to_text(seq):\n",
    "    return ' '.join([int_to_word[number] for number in seq])\n",
    "\n",
    "def pad_vector(vector, limit):\n",
    "    pad = np.array([word_to_int['<PAD>']] * limit)\n",
    "    pad[:len(vector)] = vector\n",
    "    return pad"
   ]
  },
  {
   "cell_type": "code",
   "execution_count": 12,
   "metadata": {},
   "outputs": [],
   "source": [
    "def sample(preds, top_n=3):\n",
    "    preds = np.asarray(preds).astype('float64')\n",
    "    preds = np.log(preds)\n",
    "    exp_preds = np.exp(preds)\n",
    "    preds = exp_preds / np.sum(exp_preds)\n",
    "    \n",
    "    return heapq.nlargest(top_n, range(len(preds)), preds.take)"
   ]
  },
  {
   "cell_type": "code",
   "execution_count": 13,
   "metadata": {},
   "outputs": [],
   "source": [
    "def onehot_encode_text(text):\n",
    "    return to_categorical(text, num_classes=len(words))"
   ]
  },
  {
   "cell_type": "code",
   "execution_count": 33,
   "metadata": {},
   "outputs": [],
   "source": [
    "x_texts = []\n",
    "y_texts = []\n",
    "for text in texts:\n",
    "    text_arr = text.split(' ')\n",
    "    for i in range(1, len(text_arr)):\n",
    "        aux = \" \".join(text_arr[:i])\n",
    "        x_texts.append(pad_vector(text_to_int(aux), 10))\n",
    "        y_texts.append(onehot_encode_text(text_to_int(text_arr[i]))[0])\n",
    "\n",
    "x_texts = np.array(x_texts)\n",
    "y_texts = np.array(y_texts)"
   ]
  },
  {
   "cell_type": "code",
   "execution_count": 34,
   "metadata": {},
   "outputs": [
    {
     "data": {
      "text/plain": [
       "array([[5, 1, 1, 1, 1, 1, 1, 1, 1, 1],\n",
       "       [5, 2, 1, 1, 1, 1, 1, 1, 1, 1],\n",
       "       [5, 2, 4, 1, 1, 1, 1, 1, 1, 1],\n",
       "       [6, 1, 1, 1, 1, 1, 1, 1, 1, 1],\n",
       "       [6, 2, 1, 1, 1, 1, 1, 1, 1, 1],\n",
       "       [0, 1, 1, 1, 1, 1, 1, 1, 1, 1],\n",
       "       [3, 1, 1, 1, 1, 1, 1, 1, 1, 1]])"
      ]
     },
     "execution_count": 34,
     "metadata": {},
     "output_type": "execute_result"
    }
   ],
   "source": [
    "x_texts"
   ]
  },
  {
   "cell_type": "code",
   "execution_count": 35,
   "metadata": {},
   "outputs": [
    {
     "data": {
      "text/plain": [
       "array([[0., 0., 1., 0., 0., 0., 0., 0.],\n",
       "       [0., 0., 0., 0., 1., 0., 0., 0.],\n",
       "       [0., 0., 0., 0., 0., 0., 1., 0.],\n",
       "       [0., 0., 1., 0., 0., 0., 0., 0.],\n",
       "       [0., 0., 0., 0., 0., 1., 0., 0.],\n",
       "       [0., 0., 0., 0., 0., 0., 0., 1.],\n",
       "       [0., 0., 0., 0., 0., 0., 1., 0.]], dtype=float32)"
      ]
     },
     "execution_count": 35,
     "metadata": {},
     "output_type": "execute_result"
    }
   ],
   "source": [
    "y_texts"
   ]
  },
  {
   "cell_type": "code",
   "execution_count": 38,
   "metadata": {},
   "outputs": [],
   "source": [
    "model = Sequential()\n",
    "model.add(Embedding(len(words), 32, input_length=10))\n",
    "model.add(Bidirectional(LSTM(128)))\n",
    "model.add(Dense(len(words)))\n",
    "model.add(Activation('softmax'))\n",
    "model.compile(loss=\"categorical_crossentropy\", optimizer=\"adam\")"
   ]
  },
  {
   "cell_type": "code",
   "execution_count": 39,
   "metadata": {},
   "outputs": [
    {
     "name": "stdout",
     "output_type": "stream",
     "text": [
      "Epoch 1/100\n",
      "7/7 [==============================] - 2s 224ms/step - loss: 2.0803\n",
      "Epoch 2/100\n",
      "7/7 [==============================] - 0s 3ms/step - loss: 2.0674\n",
      "Epoch 3/100\n",
      "7/7 [==============================] - 0s 3ms/step - loss: 2.0546\n",
      "Epoch 4/100\n",
      "7/7 [==============================] - 0s 3ms/step - loss: 2.0424\n",
      "Epoch 5/100\n",
      "7/7 [==============================] - 0s 3ms/step - loss: 2.0280\n",
      "Epoch 6/100\n",
      "7/7 [==============================] - 0s 2ms/step - loss: 2.0119\n",
      "Epoch 7/100\n",
      "7/7 [==============================] - 0s 3ms/step - loss: 1.9934\n",
      "Epoch 8/100\n",
      "7/7 [==============================] - 0s 2ms/step - loss: 1.9724\n",
      "Epoch 9/100\n",
      "7/7 [==============================] - 0s 3ms/step - loss: 1.9471\n",
      "Epoch 10/100\n",
      "7/7 [==============================] - 0s 3ms/step - loss: 1.9169\n",
      "Epoch 11/100\n",
      "7/7 [==============================] - 0s 3ms/step - loss: 1.8813\n",
      "Epoch 12/100\n",
      "7/7 [==============================] - 0s 3ms/step - loss: 1.8391\n",
      "Epoch 13/100\n",
      "7/7 [==============================] - 0s 4ms/step - loss: 1.7902\n",
      "Epoch 14/100\n",
      "7/7 [==============================] - 0s 3ms/step - loss: 1.7352\n",
      "Epoch 15/100\n",
      "7/7 [==============================] - 0s 3ms/step - loss: 1.6775\n",
      "Epoch 16/100\n",
      "7/7 [==============================] - 0s 3ms/step - loss: 1.6235\n",
      "Epoch 17/100\n",
      "7/7 [==============================] - 0s 2ms/step - loss: 1.5848\n",
      "Epoch 18/100\n",
      "7/7 [==============================] - 0s 2ms/step - loss: 1.5748\n",
      "Epoch 19/100\n",
      "7/7 [==============================] - 0s 3ms/step - loss: 1.5813\n",
      "Epoch 20/100\n",
      "7/7 [==============================] - 0s 3ms/step - loss: 1.5766\n",
      "Epoch 21/100\n",
      "7/7 [==============================] - 0s 2ms/step - loss: 1.5567\n",
      "Epoch 22/100\n",
      "7/7 [==============================] - 0s 2ms/step - loss: 1.5350\n",
      "Epoch 23/100\n",
      "7/7 [==============================] - 0s 2ms/step - loss: 1.5270\n",
      "Epoch 24/100\n",
      "7/7 [==============================] - 0s 2ms/step - loss: 1.5364\n",
      "Epoch 25/100\n",
      "7/7 [==============================] - 0s 2ms/step - loss: 1.5453\n",
      "Epoch 26/100\n",
      "7/7 [==============================] - 0s 3ms/step - loss: 1.5405\n",
      "Epoch 27/100\n",
      "7/7 [==============================] - 0s 2ms/step - loss: 1.5251\n",
      "Epoch 28/100\n",
      "7/7 [==============================] - 0s 2ms/step - loss: 1.5101\n",
      "Epoch 29/100\n",
      "7/7 [==============================] - 0s 3ms/step - loss: 1.5050\n",
      "Epoch 30/100\n",
      "7/7 [==============================] - 0s 3ms/step - loss: 1.5092\n",
      "Epoch 31/100\n",
      "7/7 [==============================] - 0s 4ms/step - loss: 1.5100\n",
      "Epoch 32/100\n",
      "7/7 [==============================] - 0s 3ms/step - loss: 1.5006\n",
      "Epoch 33/100\n",
      "7/7 [==============================] - 0s 4ms/step - loss: 1.4862\n",
      "Epoch 34/100\n",
      "7/7 [==============================] - 0s 4ms/step - loss: 1.4741\n",
      "Epoch 35/100\n",
      "7/7 [==============================] - 0s 3ms/step - loss: 1.4678\n",
      "Epoch 36/100\n",
      "7/7 [==============================] - 0s 4ms/step - loss: 1.4632\n",
      "Epoch 37/100\n",
      "7/7 [==============================] - 0s 4ms/step - loss: 1.4545\n",
      "Epoch 38/100\n",
      "7/7 [==============================] - 0s 3ms/step - loss: 1.4399\n",
      "Epoch 39/100\n",
      "7/7 [==============================] - 0s 2ms/step - loss: 1.4230\n",
      "Epoch 40/100\n",
      "7/7 [==============================] - 0s 3ms/step - loss: 1.4068\n",
      "Epoch 41/100\n",
      "7/7 [==============================] - 0s 3ms/step - loss: 1.3915\n",
      "Epoch 42/100\n",
      "7/7 [==============================] - 0s 3ms/step - loss: 1.3744\n",
      "Epoch 43/100\n",
      "7/7 [==============================] - 0s 3ms/step - loss: 1.3524\n",
      "Epoch 44/100\n",
      "7/7 [==============================] - 0s 3ms/step - loss: 1.3273\n",
      "Epoch 45/100\n",
      "7/7 [==============================] - 0s 3ms/step - loss: 1.3002\n",
      "Epoch 46/100\n",
      "7/7 [==============================] - 0s 3ms/step - loss: 1.2709\n",
      "Epoch 47/100\n",
      "7/7 [==============================] - 0s 3ms/step - loss: 1.2401\n",
      "Epoch 48/100\n",
      "7/7 [==============================] - 0s 3ms/step - loss: 1.2092\n",
      "Epoch 49/100\n",
      "7/7 [==============================] - 0s 2ms/step - loss: 1.1786\n",
      "Epoch 50/100\n",
      "7/7 [==============================] - 0s 3ms/step - loss: 1.1464\n",
      "Epoch 51/100\n",
      "7/7 [==============================] - 0s 3ms/step - loss: 1.1183\n",
      "Epoch 52/100\n",
      "7/7 [==============================] - 0s 4ms/step - loss: 1.0933\n",
      "Epoch 53/100\n",
      "7/7 [==============================] - 0s 2ms/step - loss: 1.0653\n",
      "Epoch 54/100\n",
      "7/7 [==============================] - 0s 3ms/step - loss: 1.0359\n",
      "Epoch 55/100\n",
      "7/7 [==============================] - 0s 3ms/step - loss: 1.0065\n",
      "Epoch 56/100\n",
      "7/7 [==============================] - 0s 5ms/step - loss: 0.9774\n",
      "Epoch 57/100\n",
      "7/7 [==============================] - 0s 4ms/step - loss: 0.9473\n",
      "Epoch 58/100\n",
      "7/7 [==============================] - 0s 3ms/step - loss: 0.9170\n",
      "Epoch 59/100\n",
      "7/7 [==============================] - 0s 5ms/step - loss: 0.8856\n",
      "Epoch 60/100\n",
      "7/7 [==============================] - 0s 4ms/step - loss: 0.8526\n",
      "Epoch 61/100\n",
      "7/7 [==============================] - 0s 5ms/step - loss: 0.8230\n",
      "Epoch 62/100\n",
      "7/7 [==============================] - 0s 4ms/step - loss: 0.7928\n",
      "Epoch 63/100\n",
      "7/7 [==============================] - 0s 3ms/step - loss: 0.7638\n",
      "Epoch 64/100\n",
      "7/7 [==============================] - 0s 4ms/step - loss: 0.7345\n",
      "Epoch 65/100\n",
      "7/7 [==============================] - 0s 3ms/step - loss: 0.7030\n",
      "Epoch 66/100\n",
      "7/7 [==============================] - 0s 4ms/step - loss: 0.6743\n",
      "Epoch 67/100\n",
      "7/7 [==============================] - 0s 3ms/step - loss: 0.6665\n",
      "Epoch 68/100\n",
      "7/7 [==============================] - 0s 3ms/step - loss: 0.7125\n",
      "Epoch 69/100\n",
      "7/7 [==============================] - 0s 3ms/step - loss: 0.6003\n",
      "Epoch 70/100\n",
      "7/7 [==============================] - 0s 3ms/step - loss: 0.6577\n",
      "Epoch 71/100\n",
      "7/7 [==============================] - 0s 3ms/step - loss: 0.5735\n",
      "Epoch 72/100\n",
      "7/7 [==============================] - 0s 3ms/step - loss: 0.5822\n",
      "Epoch 73/100\n",
      "7/7 [==============================] - 0s 3ms/step - loss: 0.5660\n",
      "Epoch 74/100\n",
      "7/7 [==============================] - 0s 3ms/step - loss: 0.5105\n",
      "Epoch 75/100\n",
      "7/7 [==============================] - 0s 3ms/step - loss: 0.5308\n",
      "Epoch 76/100\n",
      "7/7 [==============================] - 0s 3ms/step - loss: 0.4892\n",
      "Epoch 77/100\n",
      "7/7 [==============================] - 0s 3ms/step - loss: 0.4622\n",
      "Epoch 78/100\n",
      "7/7 [==============================] - 0s 4ms/step - loss: 0.4626\n",
      "Epoch 79/100\n",
      "7/7 [==============================] - 0s 3ms/step - loss: 0.4292\n",
      "Epoch 80/100\n",
      "7/7 [==============================] - 0s 3ms/step - loss: 0.4095\n",
      "Epoch 81/100\n",
      "7/7 [==============================] - 0s 3ms/step - loss: 0.3976\n",
      "Epoch 82/100\n",
      "7/7 [==============================] - 0s 3ms/step - loss: 0.3743\n",
      "Epoch 83/100\n",
      "7/7 [==============================] - 0s 2ms/step - loss: 0.3498\n",
      "Epoch 84/100\n",
      "7/7 [==============================] - 0s 2ms/step - loss: 0.3327\n",
      "Epoch 85/100\n",
      "7/7 [==============================] - 0s 2ms/step - loss: 0.3126\n",
      "Epoch 86/100\n",
      "7/7 [==============================] - 0s 3ms/step - loss: 0.2870\n",
      "Epoch 87/100\n",
      "7/7 [==============================] - 0s 2ms/step - loss: 0.2714\n",
      "Epoch 88/100\n",
      "7/7 [==============================] - 0s 3ms/step - loss: 0.2514\n",
      "Epoch 89/100\n",
      "7/7 [==============================] - 0s 2ms/step - loss: 0.2274\n",
      "Epoch 90/100\n",
      "7/7 [==============================] - 0s 2ms/step - loss: 0.2141\n",
      "Epoch 91/100\n",
      "7/7 [==============================] - 0s 2ms/step - loss: 0.1955\n",
      "Epoch 92/100\n",
      "7/7 [==============================] - 0s 2ms/step - loss: 0.1765\n",
      "Epoch 93/100\n",
      "7/7 [==============================] - 0s 2ms/step - loss: 0.1659\n",
      "Epoch 94/100\n",
      "7/7 [==============================] - 0s 3ms/step - loss: 0.1532\n",
      "Epoch 95/100\n",
      "7/7 [==============================] - 0s 3ms/step - loss: 0.1381\n",
      "Epoch 96/100\n",
      "7/7 [==============================] - 0s 4ms/step - loss: 0.1287\n",
      "Epoch 97/100\n",
      "7/7 [==============================] - 0s 3ms/step - loss: 0.1208\n",
      "Epoch 98/100\n",
      "7/7 [==============================] - 0s 3ms/step - loss: 0.1115\n",
      "Epoch 99/100\n",
      "7/7 [==============================] - 0s 3ms/step - loss: 0.1026\n",
      "Epoch 100/100\n",
      "7/7 [==============================] - 0s 4ms/step - loss: 0.0957\n"
     ]
    }
   ],
   "source": [
    "history = model.fit(x=x_texts, y=y_texts, epochs=100, verbose=1, shuffle=True)"
   ]
  },
  {
   "cell_type": "code",
   "execution_count": 40,
   "metadata": {},
   "outputs": [],
   "source": [
    "test = onehot_encode_text(pad_vector(text_to_int(\" \".join(texts[2].split(' ')[::-1][:-1])), 10))"
   ]
  },
  {
   "cell_type": "code",
   "execution_count": 26,
   "metadata": {},
   "outputs": [
    {
     "ename": "NameError",
     "evalue": "name 'test' is not defined",
     "output_type": "error",
     "traceback": [
      "\u001b[0;31m---------------------------------------------------------------------------\u001b[0m",
      "\u001b[0;31mNameError\u001b[0m                                 Traceback (most recent call last)",
      "\u001b[0;32m<ipython-input-26-d92a12031cca>\u001b[0m in \u001b[0;36m<module>\u001b[0;34m\u001b[0m\n\u001b[0;32m----> 1\u001b[0;31m \u001b[0mint_to_word\u001b[0m\u001b[0;34m[\u001b[0m\u001b[0mnp\u001b[0m\u001b[0;34m.\u001b[0m\u001b[0margmax\u001b[0m\u001b[0;34m(\u001b[0m\u001b[0mmodel\u001b[0m\u001b[0;34m.\u001b[0m\u001b[0mpredict\u001b[0m\u001b[0;34m(\u001b[0m\u001b[0mnp\u001b[0m\u001b[0;34m.\u001b[0m\u001b[0marray\u001b[0m\u001b[0;34m(\u001b[0m\u001b[0;34m[\u001b[0m\u001b[0mtest\u001b[0m\u001b[0;34m]\u001b[0m\u001b[0;34m)\u001b[0m\u001b[0;34m,\u001b[0m \u001b[0mverbose\u001b[0m\u001b[0;34m=\u001b[0m\u001b[0;36m0\u001b[0m\u001b[0;34m)\u001b[0m\u001b[0;34m[\u001b[0m\u001b[0;36m0\u001b[0m\u001b[0;34m]\u001b[0m\u001b[0;34m)\u001b[0m\u001b[0;34m]\u001b[0m\u001b[0;34m\u001b[0m\u001b[0;34m\u001b[0m\u001b[0m\n\u001b[0m",
      "\u001b[0;31mNameError\u001b[0m: name 'test' is not defined"
     ]
    }
   ],
   "source": [
    "int_to_word[np.argmax(model.predict(np.array([test]), verbose=0)[0])]"
   ]
  },
  {
   "cell_type": "code",
   "execution_count": 42,
   "metadata": {},
   "outputs": [
    {
     "name": "stdout",
     "output_type": "stream",
     "text": [
      "['eu', 'sou', '<PAD>', '<PAD>', '<PAD>', '<PAD>', '<PAD>', '<PAD>', '<PAD>', '<PAD>']\n",
      "[4, 5, 6]\n"
     ]
    },
    {
     "data": {
      "text/plain": [
       "['um', 'eu', 'texto']"
      ]
     },
     "execution_count": 42,
     "metadata": {},
     "output_type": "execute_result"
    }
   ],
   "source": [
    "s = sample(model.predict(np.array([x_texts[1]]), verbose=0)[0])\n",
    "\n",
    "print([int_to_word[t] for t in x_texts[1]])\n",
    "print(s)\n",
    "[int_to_word[i] for i in s]"
   ]
  }
 ],
 "metadata": {
  "kernelspec": {
   "display_name": "Python [conda env:augmentation] *",
   "language": "python",
   "name": "conda-env-augmentation-py"
  },
  "language_info": {
   "codemirror_mode": {
    "name": "ipython",
    "version": 3
   },
   "file_extension": ".py",
   "mimetype": "text/x-python",
   "name": "python",
   "nbconvert_exporter": "python",
   "pygments_lexer": "ipython3",
   "version": "3.7.3"
  }
 },
 "nbformat": 4,
 "nbformat_minor": 2
}
