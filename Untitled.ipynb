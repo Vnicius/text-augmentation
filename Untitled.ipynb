{
 "cells": [
  {
   "cell_type": "code",
   "execution_count": 1,
   "metadata": {},
   "outputs": [
    {
     "name": "stderr",
     "output_type": "stream",
     "text": [
      "Using TensorFlow backend.\n"
     ]
    }
   ],
   "source": [
    "from keras.utils import to_categorical\n",
    "from keras.models import Sequential\n",
    "from keras.layers import Dense, LSTM, Activation,Embedding\n",
    "from keras.layers import Bidirectional\n",
    "import numpy as np\n",
    "import heapq"
   ]
  },
  {
   "cell_type": "code",
   "execution_count": 58,
   "metadata": {},
   "outputs": [],
   "source": [
    "texts = [\"Eu sou um texto\", \"texto sou eu\", \"minha não casa\", \"com Texto\"]\n",
    "texts = [t.lower() for t in texts]"
   ]
  },
  {
   "cell_type": "code",
   "execution_count": 59,
   "metadata": {},
   "outputs": [],
   "source": [
    "words = set(['<PAD>'])\n",
    "\n",
    "for line in texts:\n",
    "    for word in line.split(' '):\n",
    "        words.add(word)"
   ]
  },
  {
   "cell_type": "code",
   "execution_count": 60,
   "metadata": {},
   "outputs": [
    {
     "name": "stdout",
     "output_type": "stream",
     "text": [
      "{'não': 0, '<PAD>': 1, 'casa': 2, 'com': 3, 'um': 4, 'texto': 5, 'minha': 6, 'sou': 7, 'eu': 8}\n"
     ]
    }
   ],
   "source": [
    "word_to_int = {}\n",
    "int_to_word = {}\n",
    "\n",
    "for word in words:\n",
    "    word_to_int[word] = len(word_to_int)\n",
    "    int_to_word[len(int_to_word)] = word\n",
    "\n",
    "print(word_to_int)"
   ]
  },
  {
   "cell_type": "code",
   "execution_count": 61,
   "metadata": {},
   "outputs": [],
   "source": [
    "def text_to_int(text):\n",
    "    return [word_to_int[word] for word in text.split(' ')]\n",
    "\n",
    "def int_seq_to_text(seq):\n",
    "    return ' '.join([int_to_word[number] for number in seq])\n",
    "\n",
    "def pad_vector(vector, limit):\n",
    "    pad = np.array([word_to_int['<PAD>']] * limit)\n",
    "    pad[:len(vector)] = vector\n",
    "    return pad"
   ]
  },
  {
   "cell_type": "code",
   "execution_count": 62,
   "metadata": {},
   "outputs": [],
   "source": [
    "def sample(preds, top_n=3):\n",
    "    preds = np.asarray(preds).astype('float64')\n",
    "    preds = np.log(preds)\n",
    "    exp_preds = np.exp(preds)\n",
    "    preds = exp_preds / np.sum(exp_preds)\n",
    "    \n",
    "    return heapq.nlargest(top_n, range(len(preds)), preds.take)"
   ]
  },
  {
   "cell_type": "code",
   "execution_count": 63,
   "metadata": {},
   "outputs": [],
   "source": [
    "def onehot_encode_text(text):\n",
    "    return to_categorical(text, num_classes=len(words))"
   ]
  },
  {
   "cell_type": "code",
   "execution_count": 64,
   "metadata": {},
   "outputs": [],
   "source": [
    "x_texts = []\n",
    "y_texts = []\n",
    "for text in texts:\n",
    "    text_arr = text.split(' ')\n",
    "    for i in range(1, len(text_arr)):\n",
    "        aux = \" \".join(text_arr[:i])\n",
    "        x_texts.append(pad_vector(text_to_int(aux), 10))\n",
    "        y_texts.append(onehot_encode_text(text_to_int(text_arr[i]))[0])\n",
    "\n",
    "x_texts = np.array(x_texts)\n",
    "y_texts = np.array(y_texts)"
   ]
  },
  {
   "cell_type": "code",
   "execution_count": 65,
   "metadata": {},
   "outputs": [
    {
     "data": {
      "text/plain": [
       "array([[8, 1, 1, 1, 1, 1, 1, 1, 1, 1],\n",
       "       [8, 7, 1, 1, 1, 1, 1, 1, 1, 1],\n",
       "       [8, 7, 4, 1, 1, 1, 1, 1, 1, 1],\n",
       "       [5, 1, 1, 1, 1, 1, 1, 1, 1, 1],\n",
       "       [5, 7, 1, 1, 1, 1, 1, 1, 1, 1],\n",
       "       [6, 1, 1, 1, 1, 1, 1, 1, 1, 1],\n",
       "       [6, 0, 1, 1, 1, 1, 1, 1, 1, 1],\n",
       "       [3, 1, 1, 1, 1, 1, 1, 1, 1, 1]])"
      ]
     },
     "execution_count": 65,
     "metadata": {},
     "output_type": "execute_result"
    }
   ],
   "source": [
    "x_texts"
   ]
  },
  {
   "cell_type": "code",
   "execution_count": 11,
   "metadata": {},
   "outputs": [
    {
     "data": {
      "text/plain": [
       "array([[0., 0., 0., 0., 0., 0., 1., 0.],\n",
       "       [0., 0., 0., 1., 0., 0., 0., 0.],\n",
       "       [0., 0., 0., 0., 1., 0., 0., 0.],\n",
       "       [0., 0., 0., 0., 0., 0., 1., 0.],\n",
       "       [0., 0., 0., 0., 0., 0., 0., 1.],\n",
       "       [0., 1., 0., 0., 0., 0., 0., 0.],\n",
       "       [0., 0., 0., 0., 1., 0., 0., 0.]], dtype=float32)"
      ]
     },
     "execution_count": 11,
     "metadata": {},
     "output_type": "execute_result"
    }
   ],
   "source": [
    "y_texts"
   ]
  },
  {
   "cell_type": "code",
   "execution_count": 66,
   "metadata": {},
   "outputs": [],
   "source": [
    "model = Sequential()\n",
    "model.add(Embedding(len(words), 32, input_length=10))\n",
    "model.add(Bidirectional(LSTM(128)))\n",
    "model.add(Dense(len(words)))\n",
    "model.add(Activation('softmax'))\n",
    "model.compile(loss=\"categorical_crossentropy\", optimizer=\"adam\", metrics=['accuracy'])"
   ]
  },
  {
   "cell_type": "code",
   "execution_count": 13,
   "metadata": {},
   "outputs": [
    {
     "name": "stdout",
     "output_type": "stream",
     "text": [
      "WARNING:tensorflow:From /home/vinicius/anaconda3/envs/augmentation/lib/python3.7/site-packages/tensorflow/python/ops/math_ops.py:3066: to_int32 (from tensorflow.python.ops.math_ops) is deprecated and will be removed in a future version.\n",
      "Instructions for updating:\n",
      "Use tf.cast instead.\n",
      "Train on 5 samples, validate on 2 samples\n",
      "Epoch 1/100\n",
      "5/5 [==============================] - 3s 669ms/step - loss: 2.0875 - acc: 0.0000e+00 - val_loss: 2.0826 - val_acc: 0.0000e+00\n",
      "Epoch 2/100\n",
      "5/5 [==============================] - 0s 17ms/step - loss: 2.0332 - acc: 0.2000 - val_loss: 2.0892 - val_acc: 0.0000e+00\n",
      "Epoch 3/100\n",
      "5/5 [==============================] - 0s 12ms/step - loss: 1.9692 - acc: 0.4000 - val_loss: 2.1049 - val_acc: 0.0000e+00\n",
      "Epoch 4/100\n",
      "5/5 [==============================] - 0s 11ms/step - loss: 1.8527 - acc: 0.4000 - val_loss: 2.1576 - val_acc: 0.0000e+00\n",
      "Epoch 5/100\n",
      "5/5 [==============================] - 0s 10ms/step - loss: 1.6666 - acc: 0.4000 - val_loss: 2.4273 - val_acc: 0.0000e+00\n",
      "Epoch 6/100\n",
      "5/5 [==============================] - 0s 12ms/step - loss: 1.4230 - acc: 0.4000 - val_loss: 3.3151 - val_acc: 0.0000e+00\n",
      "Epoch 7/100\n",
      "5/5 [==============================] - 0s 13ms/step - loss: 1.4112 - acc: 0.4000 - val_loss: 3.9653 - val_acc: 0.0000e+00\n",
      "Epoch 8/100\n",
      "5/5 [==============================] - 0s 11ms/step - loss: 1.4274 - acc: 0.4000 - val_loss: 4.4723 - val_acc: 0.0000e+00\n",
      "Epoch 9/100\n",
      "5/5 [==============================] - 0s 13ms/step - loss: 1.3344 - acc: 0.4000 - val_loss: 4.2362 - val_acc: 0.0000e+00\n",
      "Epoch 10/100\n",
      "5/5 [==============================] - 0s 13ms/step - loss: 1.2772 - acc: 0.4000 - val_loss: 4.1188 - val_acc: 0.0000e+00\n",
      "Epoch 11/100\n",
      "5/5 [==============================] - 0s 11ms/step - loss: 1.3045 - acc: 0.4000 - val_loss: 4.0625 - val_acc: 0.0000e+00\n",
      "Epoch 12/100\n",
      "5/5 [==============================] - 0s 13ms/step - loss: 1.3016 - acc: 0.4000 - val_loss: 4.3858 - val_acc: 0.0000e+00\n",
      "Epoch 13/100\n",
      "5/5 [==============================] - 0s 13ms/step - loss: 1.2547 - acc: 0.4000 - val_loss: 4.4594 - val_acc: 0.0000e+00\n",
      "Epoch 14/100\n",
      "5/5 [==============================] - 0s 11ms/step - loss: 1.2005 - acc: 0.4000 - val_loss: 5.1288 - val_acc: 0.0000e+00\n",
      "Epoch 15/100\n",
      "5/5 [==============================] - 0s 13ms/step - loss: 1.1399 - acc: 0.4000 - val_loss: 5.6086 - val_acc: 0.0000e+00\n",
      "Epoch 16/100\n",
      "5/5 [==============================] - 0s 12ms/step - loss: 1.0619 - acc: 0.6000 - val_loss: 6.8789 - val_acc: 0.0000e+00\n",
      "Epoch 17/100\n",
      "5/5 [==============================] - 0s 12ms/step - loss: 0.9633 - acc: 0.6000 - val_loss: 7.6739 - val_acc: 0.0000e+00\n",
      "Epoch 18/100\n",
      "5/5 [==============================] - 0s 13ms/step - loss: 0.8460 - acc: 0.6000 - val_loss: 9.6492 - val_acc: 0.0000e+00\n",
      "Epoch 19/100\n",
      "5/5 [==============================] - 0s 12ms/step - loss: 0.7513 - acc: 0.8000 - val_loss: 10.9171 - val_acc: 0.0000e+00\n",
      "Epoch 20/100\n",
      "5/5 [==============================] - 0s 13ms/step - loss: 0.6853 - acc: 0.8000 - val_loss: 11.5382 - val_acc: 0.0000e+00\n",
      "Epoch 21/100\n",
      "5/5 [==============================] - 0s 11ms/step - loss: 0.6171 - acc: 0.8000 - val_loss: 11.6415 - val_acc: 0.0000e+00\n",
      "Epoch 22/100\n",
      "5/5 [==============================] - 0s 13ms/step - loss: 0.5867 - acc: 0.6000 - val_loss: 11.6789 - val_acc: 0.0000e+00\n",
      "Epoch 23/100\n",
      "5/5 [==============================] - 0s 13ms/step - loss: 0.5127 - acc: 0.8000 - val_loss: 11.4539 - val_acc: 0.0000e+00\n",
      "Epoch 24/100\n",
      "5/5 [==============================] - 0s 21ms/step - loss: 0.5226 - acc: 0.8000 - val_loss: 11.4907 - val_acc: 0.0000e+00\n",
      "Epoch 25/100\n",
      "5/5 [==============================] - 0s 17ms/step - loss: 0.5699 - acc: 0.8000 - val_loss: 11.7219 - val_acc: 0.0000e+00\n",
      "Epoch 26/100\n",
      "5/5 [==============================] - 0s 17ms/step - loss: 0.4786 - acc: 0.8000 - val_loss: 11.3834 - val_acc: 0.0000e+00\n",
      "Epoch 27/100\n",
      "5/5 [==============================] - 0s 14ms/step - loss: 0.4119 - acc: 0.8000 - val_loss: 11.4379 - val_acc: 0.0000e+00\n",
      "Epoch 28/100\n",
      "5/5 [==============================] - 0s 13ms/step - loss: 0.3800 - acc: 1.0000 - val_loss: 11.7461 - val_acc: 0.0000e+00\n",
      "Epoch 29/100\n",
      "5/5 [==============================] - 0s 13ms/step - loss: 0.3387 - acc: 0.8000 - val_loss: 11.9776 - val_acc: 0.0000e+00\n",
      "Epoch 30/100\n",
      "5/5 [==============================] - 0s 12ms/step - loss: 0.3314 - acc: 0.8000 - val_loss: 12.1669 - val_acc: 0.0000e+00\n",
      "Epoch 31/100\n",
      "5/5 [==============================] - 0s 13ms/step - loss: 0.3076 - acc: 0.8000 - val_loss: 12.1459 - val_acc: 0.0000e+00\n",
      "Epoch 32/100\n",
      "5/5 [==============================] - 0s 15ms/step - loss: 0.3097 - acc: 1.0000 - val_loss: 12.2128 - val_acc: 0.0000e+00\n",
      "Epoch 33/100\n",
      "5/5 [==============================] - 0s 11ms/step - loss: 0.3044 - acc: 0.8000 - val_loss: 12.3495 - val_acc: 0.0000e+00\n",
      "Epoch 34/100\n",
      "5/5 [==============================] - 0s 15ms/step - loss: 0.2676 - acc: 0.8000 - val_loss: 12.4406 - val_acc: 0.0000e+00\n",
      "Epoch 35/100\n",
      "5/5 [==============================] - 0s 11ms/step - loss: 0.2505 - acc: 1.0000 - val_loss: 12.4852 - val_acc: 0.0000e+00\n",
      "Epoch 36/100\n",
      "5/5 [==============================] - 0s 13ms/step - loss: 0.2828 - acc: 0.8000 - val_loss: 12.4817 - val_acc: 0.0000e+00\n",
      "Epoch 37/100\n",
      "5/5 [==============================] - 0s 14ms/step - loss: 0.2592 - acc: 0.8000 - val_loss: 12.5581 - val_acc: 0.0000e+00\n",
      "Epoch 38/100\n",
      "5/5 [==============================] - 0s 11ms/step - loss: 0.2248 - acc: 1.0000 - val_loss: 12.7792 - val_acc: 0.0000e+00\n",
      "Epoch 39/100\n",
      "5/5 [==============================] - 0s 14ms/step - loss: 0.2152 - acc: 1.0000 - val_loss: 12.9322 - val_acc: 0.0000e+00\n",
      "Epoch 40/100\n",
      "5/5 [==============================] - 0s 11ms/step - loss: 0.1570 - acc: 1.0000 - val_loss: 12.9846 - val_acc: 0.0000e+00\n",
      "Epoch 41/100\n",
      "5/5 [==============================] - 0s 11ms/step - loss: 0.1475 - acc: 1.0000 - val_loss: 12.9202 - val_acc: 0.0000e+00\n",
      "Epoch 42/100\n",
      "5/5 [==============================] - 0s 12ms/step - loss: 0.1157 - acc: 1.0000 - val_loss: 12.9623 - val_acc: 0.0000e+00\n",
      "Epoch 43/100\n",
      "5/5 [==============================] - 0s 12ms/step - loss: 0.1229 - acc: 1.0000 - val_loss: 13.0131 - val_acc: 0.0000e+00\n",
      "Epoch 44/100\n",
      "5/5 [==============================] - 0s 13ms/step - loss: 0.3650 - acc: 0.8000 - val_loss: 13.4324 - val_acc: 0.0000e+00\n",
      "Epoch 45/100\n",
      "5/5 [==============================] - 0s 13ms/step - loss: 0.4215 - acc: 0.8000 - val_loss: 13.4735 - val_acc: 0.0000e+00\n",
      "Epoch 46/100\n",
      "5/5 [==============================] - 0s 13ms/step - loss: 0.3912 - acc: 0.8000 - val_loss: 13.1930 - val_acc: 0.0000e+00\n",
      "Epoch 47/100\n",
      "5/5 [==============================] - 0s 13ms/step - loss: 0.4029 - acc: 0.8000 - val_loss: 13.1321 - val_acc: 0.0000e+00\n",
      "Epoch 48/100\n",
      "5/5 [==============================] - 0s 12ms/step - loss: 0.2754 - acc: 0.8000 - val_loss: 13.2368 - val_acc: 0.0000e+00\n",
      "Epoch 49/100\n",
      "5/5 [==============================] - 0s 13ms/step - loss: 0.2726 - acc: 0.8000 - val_loss: 13.1935 - val_acc: 0.0000e+00\n",
      "Epoch 50/100\n",
      "5/5 [==============================] - 0s 13ms/step - loss: 0.2312 - acc: 0.8000 - val_loss: 12.8940 - val_acc: 0.0000e+00\n",
      "Epoch 51/100\n",
      "5/5 [==============================] - 0s 14ms/step - loss: 0.1623 - acc: 1.0000 - val_loss: 12.9218 - val_acc: 0.0000e+00\n",
      "Epoch 52/100\n",
      "5/5 [==============================] - 0s 14ms/step - loss: 0.1232 - acc: 1.0000 - val_loss: 13.1017 - val_acc: 0.0000e+00\n",
      "Epoch 53/100\n",
      "5/5 [==============================] - 0s 13ms/step - loss: 0.0953 - acc: 1.0000 - val_loss: 13.0687 - val_acc: 0.0000e+00\n",
      "Epoch 54/100\n",
      "5/5 [==============================] - 0s 12ms/step - loss: 0.0614 - acc: 1.0000 - val_loss: 13.0270 - val_acc: 0.0000e+00\n",
      "Epoch 55/100\n",
      "5/5 [==============================] - 0s 15ms/step - loss: 0.0600 - acc: 1.0000 - val_loss: 12.9786 - val_acc: 0.0000e+00\n",
      "Epoch 56/100\n",
      "5/5 [==============================] - 0s 15ms/step - loss: 0.0569 - acc: 1.0000 - val_loss: 12.9749 - val_acc: 0.0000e+00\n",
      "Epoch 57/100\n",
      "5/5 [==============================] - 0s 14ms/step - loss: 0.0446 - acc: 1.0000 - val_loss: 13.0437 - val_acc: 0.0000e+00\n",
      "Epoch 58/100\n",
      "5/5 [==============================] - 0s 13ms/step - loss: 0.0412 - acc: 1.0000 - val_loss: 13.1643 - val_acc: 0.0000e+00\n"
     ]
    },
    {
     "name": "stdout",
     "output_type": "stream",
     "text": [
      "Epoch 59/100\n",
      "5/5 [==============================] - 0s 12ms/step - loss: 0.0342 - acc: 1.0000 - val_loss: 13.2794 - val_acc: 0.0000e+00\n",
      "Epoch 60/100\n",
      "5/5 [==============================] - 0s 12ms/step - loss: 0.0301 - acc: 1.0000 - val_loss: 13.3676 - val_acc: 0.0000e+00\n",
      "Epoch 61/100\n",
      "5/5 [==============================] - 0s 10ms/step - loss: 0.0269 - acc: 1.0000 - val_loss: 13.4258 - val_acc: 0.0000e+00\n",
      "Epoch 62/100\n",
      "5/5 [==============================] - 0s 11ms/step - loss: 0.0252 - acc: 1.0000 - val_loss: 13.4755 - val_acc: 0.0000e+00\n",
      "Epoch 63/100\n",
      "5/5 [==============================] - 0s 11ms/step - loss: 0.0225 - acc: 1.0000 - val_loss: 13.5113 - val_acc: 0.0000e+00\n",
      "Epoch 64/100\n",
      "5/5 [==============================] - 0s 10ms/step - loss: 0.0209 - acc: 1.0000 - val_loss: 13.5414 - val_acc: 0.0000e+00\n",
      "Epoch 65/100\n",
      "5/5 [==============================] - 0s 11ms/step - loss: 0.0191 - acc: 1.0000 - val_loss: 13.5880 - val_acc: 0.0000e+00\n",
      "Epoch 66/100\n",
      "5/5 [==============================] - 0s 10ms/step - loss: 0.0178 - acc: 1.0000 - val_loss: 13.6218 - val_acc: 0.0000e+00\n",
      "Epoch 67/100\n",
      "5/5 [==============================] - 0s 11ms/step - loss: 0.0166 - acc: 1.0000 - val_loss: 13.6560 - val_acc: 0.0000e+00\n",
      "Epoch 68/100\n",
      "5/5 [==============================] - 0s 11ms/step - loss: 0.0154 - acc: 1.0000 - val_loss: 13.6899 - val_acc: 0.0000e+00\n",
      "Epoch 69/100\n",
      "5/5 [==============================] - 0s 11ms/step - loss: 0.0145 - acc: 1.0000 - val_loss: 13.7033 - val_acc: 0.0000e+00\n",
      "Epoch 70/100\n",
      "5/5 [==============================] - 0s 11ms/step - loss: 0.0135 - acc: 1.0000 - val_loss: 13.7445 - val_acc: 0.0000e+00\n",
      "Epoch 71/100\n",
      "5/5 [==============================] - 0s 12ms/step - loss: 0.0128 - acc: 1.0000 - val_loss: 13.7624 - val_acc: 0.0000e+00\n",
      "Epoch 72/100\n",
      "5/5 [==============================] - 0s 11ms/step - loss: 0.0121 - acc: 1.0000 - val_loss: 13.7903 - val_acc: 0.0000e+00\n",
      "Epoch 73/100\n",
      "5/5 [==============================] - 0s 11ms/step - loss: 0.0114 - acc: 1.0000 - val_loss: 13.8149 - val_acc: 0.0000e+00\n",
      "Epoch 74/100\n",
      "5/5 [==============================] - 0s 11ms/step - loss: 0.0109 - acc: 1.0000 - val_loss: 13.8342 - val_acc: 0.0000e+00\n",
      "Epoch 75/100\n",
      "5/5 [==============================] - 0s 11ms/step - loss: 0.0102 - acc: 1.0000 - val_loss: 13.8543 - val_acc: 0.0000e+00\n",
      "Epoch 76/100\n",
      "5/5 [==============================] - 0s 12ms/step - loss: 0.0096 - acc: 1.0000 - val_loss: 13.8785 - val_acc: 0.0000e+00\n",
      "Epoch 77/100\n",
      "5/5 [==============================] - 0s 12ms/step - loss: 0.0092 - acc: 1.0000 - val_loss: 13.9093 - val_acc: 0.0000e+00\n",
      "Epoch 78/100\n",
      "5/5 [==============================] - 0s 12ms/step - loss: 0.0088 - acc: 1.0000 - val_loss: 13.9233 - val_acc: 0.0000e+00\n",
      "Epoch 79/100\n",
      "5/5 [==============================] - 0s 11ms/step - loss: 0.0083 - acc: 1.0000 - val_loss: 13.9453 - val_acc: 0.0000e+00\n",
      "Epoch 80/100\n",
      "5/5 [==============================] - 0s 10ms/step - loss: 0.0080 - acc: 1.0000 - val_loss: 13.9650 - val_acc: 0.0000e+00\n",
      "Epoch 81/100\n",
      "5/5 [==============================] - 0s 12ms/step - loss: 0.0076 - acc: 1.0000 - val_loss: 13.9813 - val_acc: 0.0000e+00\n",
      "Epoch 82/100\n",
      "5/5 [==============================] - 0s 12ms/step - loss: 0.0073 - acc: 1.0000 - val_loss: 13.9994 - val_acc: 0.0000e+00\n",
      "Epoch 83/100\n",
      "5/5 [==============================] - 0s 11ms/step - loss: 0.0069 - acc: 1.0000 - val_loss: 14.0174 - val_acc: 0.0000e+00\n",
      "Epoch 84/100\n",
      "5/5 [==============================] - 0s 11ms/step - loss: 0.0067 - acc: 1.0000 - val_loss: 14.0351 - val_acc: 0.0000e+00\n",
      "Epoch 85/100\n",
      "5/5 [==============================] - 0s 12ms/step - loss: 0.0064 - acc: 1.0000 - val_loss: 14.0492 - val_acc: 0.0000e+00\n",
      "Epoch 86/100\n",
      "5/5 [==============================] - 0s 11ms/step - loss: 0.0061 - acc: 1.0000 - val_loss: 14.0704 - val_acc: 0.0000e+00\n",
      "Epoch 87/100\n",
      "5/5 [==============================] - 0s 10ms/step - loss: 0.0059 - acc: 1.0000 - val_loss: 14.0888 - val_acc: 0.0000e+00\n",
      "Epoch 88/100\n",
      "5/5 [==============================] - 0s 11ms/step - loss: 0.0057 - acc: 1.0000 - val_loss: 14.1022 - val_acc: 0.0000e+00\n",
      "Epoch 89/100\n",
      "5/5 [==============================] - 0s 13ms/step - loss: 0.0055 - acc: 1.0000 - val_loss: 14.1148 - val_acc: 0.0000e+00\n",
      "Epoch 90/100\n",
      "5/5 [==============================] - 0s 15ms/step - loss: 0.0053 - acc: 1.0000 - val_loss: 14.1359 - val_acc: 0.0000e+00\n",
      "Epoch 91/100\n",
      "5/5 [==============================] - 0s 15ms/step - loss: 0.0052 - acc: 1.0000 - val_loss: 14.1471 - val_acc: 0.0000e+00\n",
      "Epoch 92/100\n",
      "5/5 [==============================] - 0s 19ms/step - loss: 0.0050 - acc: 1.0000 - val_loss: 14.1617 - val_acc: 0.0000e+00\n",
      "Epoch 93/100\n",
      "5/5 [==============================] - 0s 18ms/step - loss: 0.0048 - acc: 1.0000 - val_loss: 14.1738 - val_acc: 0.0000e+00\n",
      "Epoch 94/100\n",
      "5/5 [==============================] - 0s 16ms/step - loss: 0.0046 - acc: 1.0000 - val_loss: 14.1888 - val_acc: 0.0000e+00\n",
      "Epoch 95/100\n",
      "5/5 [==============================] - 0s 16ms/step - loss: 0.0045 - acc: 1.0000 - val_loss: 14.1972 - val_acc: 0.0000e+00\n",
      "Epoch 96/100\n",
      "5/5 [==============================] - 0s 12ms/step - loss: 0.0043 - acc: 1.0000 - val_loss: 14.2111 - val_acc: 0.0000e+00\n",
      "Epoch 97/100\n",
      "5/5 [==============================] - 0s 11ms/step - loss: 0.0042 - acc: 1.0000 - val_loss: 14.2229 - val_acc: 0.0000e+00\n",
      "Epoch 98/100\n",
      "5/5 [==============================] - 0s 12ms/step - loss: 0.0041 - acc: 1.0000 - val_loss: 14.2331 - val_acc: 0.0000e+00\n",
      "Epoch 99/100\n",
      "5/5 [==============================] - 0s 12ms/step - loss: 0.0040 - acc: 1.0000 - val_loss: 14.2470 - val_acc: 0.0000e+00\n",
      "Epoch 100/100\n",
      "5/5 [==============================] - 0s 12ms/step - loss: 0.0039 - acc: 1.0000 - val_loss: 14.2551 - val_acc: 0.0000e+00\n"
     ]
    }
   ],
   "source": [
    "history = model.fit(x=x_texts, y=y_texts, epochs=100, batch_size=1,verbose=1, validation_split=0.2, shuffle=True)"
   ]
  },
  {
   "cell_type": "code",
   "execution_count": 14,
   "metadata": {},
   "outputs": [],
   "source": [
    "test = onehot_encode_text(pad_vector(text_to_int(\" \".join(texts[2].split(' ')[::-1][:-1])), 10))"
   ]
  },
  {
   "cell_type": "code",
   "execution_count": 14,
   "metadata": {},
   "outputs": [
    {
     "ename": "ValueError",
     "evalue": "Error when checking input: expected embedding_1_input to have 2 dimensions, but got array with shape (1, 10, 8)",
     "output_type": "error",
     "traceback": [
      "\u001b[0;31m---------------------------------------------------------------------------\u001b[0m",
      "\u001b[0;31mValueError\u001b[0m                                Traceback (most recent call last)",
      "\u001b[0;32m<ipython-input-14-d92a12031cca>\u001b[0m in \u001b[0;36m<module>\u001b[0;34m\u001b[0m\n\u001b[0;32m----> 1\u001b[0;31m \u001b[0mint_to_word\u001b[0m\u001b[0;34m[\u001b[0m\u001b[0mnp\u001b[0m\u001b[0;34m.\u001b[0m\u001b[0margmax\u001b[0m\u001b[0;34m(\u001b[0m\u001b[0mmodel\u001b[0m\u001b[0;34m.\u001b[0m\u001b[0mpredict\u001b[0m\u001b[0;34m(\u001b[0m\u001b[0mnp\u001b[0m\u001b[0;34m.\u001b[0m\u001b[0marray\u001b[0m\u001b[0;34m(\u001b[0m\u001b[0;34m[\u001b[0m\u001b[0mtest\u001b[0m\u001b[0;34m]\u001b[0m\u001b[0;34m)\u001b[0m\u001b[0;34m,\u001b[0m \u001b[0mverbose\u001b[0m\u001b[0;34m=\u001b[0m\u001b[0;36m0\u001b[0m\u001b[0;34m)\u001b[0m\u001b[0;34m[\u001b[0m\u001b[0;36m0\u001b[0m\u001b[0;34m]\u001b[0m\u001b[0;34m)\u001b[0m\u001b[0;34m]\u001b[0m\u001b[0;34m\u001b[0m\u001b[0;34m\u001b[0m\u001b[0m\n\u001b[0m",
      "\u001b[0;32m~/anaconda3/lib/python3.7/site-packages/keras/engine/training.py\u001b[0m in \u001b[0;36mpredict\u001b[0;34m(self, x, batch_size, verbose, steps)\u001b[0m\n\u001b[1;32m   1147\u001b[0m                              'argument.')\n\u001b[1;32m   1148\u001b[0m         \u001b[0;31m# Validate user data.\u001b[0m\u001b[0;34m\u001b[0m\u001b[0;34m\u001b[0m\u001b[0;34m\u001b[0m\u001b[0m\n\u001b[0;32m-> 1149\u001b[0;31m         \u001b[0mx\u001b[0m\u001b[0;34m,\u001b[0m \u001b[0m_\u001b[0m\u001b[0;34m,\u001b[0m \u001b[0m_\u001b[0m \u001b[0;34m=\u001b[0m \u001b[0mself\u001b[0m\u001b[0;34m.\u001b[0m\u001b[0m_standardize_user_data\u001b[0m\u001b[0;34m(\u001b[0m\u001b[0mx\u001b[0m\u001b[0;34m)\u001b[0m\u001b[0;34m\u001b[0m\u001b[0;34m\u001b[0m\u001b[0m\n\u001b[0m\u001b[1;32m   1150\u001b[0m         \u001b[0;32mif\u001b[0m \u001b[0mself\u001b[0m\u001b[0;34m.\u001b[0m\u001b[0mstateful\u001b[0m\u001b[0;34m:\u001b[0m\u001b[0;34m\u001b[0m\u001b[0;34m\u001b[0m\u001b[0m\n\u001b[1;32m   1151\u001b[0m             \u001b[0;32mif\u001b[0m \u001b[0mx\u001b[0m\u001b[0;34m[\u001b[0m\u001b[0;36m0\u001b[0m\u001b[0;34m]\u001b[0m\u001b[0;34m.\u001b[0m\u001b[0mshape\u001b[0m\u001b[0;34m[\u001b[0m\u001b[0;36m0\u001b[0m\u001b[0;34m]\u001b[0m \u001b[0;34m>\u001b[0m \u001b[0mbatch_size\u001b[0m \u001b[0;32mand\u001b[0m \u001b[0mx\u001b[0m\u001b[0;34m[\u001b[0m\u001b[0;36m0\u001b[0m\u001b[0;34m]\u001b[0m\u001b[0;34m.\u001b[0m\u001b[0mshape\u001b[0m\u001b[0;34m[\u001b[0m\u001b[0;36m0\u001b[0m\u001b[0;34m]\u001b[0m \u001b[0;34m%\u001b[0m \u001b[0mbatch_size\u001b[0m \u001b[0;34m!=\u001b[0m \u001b[0;36m0\u001b[0m\u001b[0;34m:\u001b[0m\u001b[0;34m\u001b[0m\u001b[0;34m\u001b[0m\u001b[0m\n",
      "\u001b[0;32m~/anaconda3/lib/python3.7/site-packages/keras/engine/training.py\u001b[0m in \u001b[0;36m_standardize_user_data\u001b[0;34m(self, x, y, sample_weight, class_weight, check_array_lengths, batch_size)\u001b[0m\n\u001b[1;32m    749\u001b[0m             \u001b[0mfeed_input_shapes\u001b[0m\u001b[0;34m,\u001b[0m\u001b[0;34m\u001b[0m\u001b[0;34m\u001b[0m\u001b[0m\n\u001b[1;32m    750\u001b[0m             \u001b[0mcheck_batch_axis\u001b[0m\u001b[0;34m=\u001b[0m\u001b[0;32mFalse\u001b[0m\u001b[0;34m,\u001b[0m  \u001b[0;31m# Don't enforce the batch size.\u001b[0m\u001b[0;34m\u001b[0m\u001b[0;34m\u001b[0m\u001b[0m\n\u001b[0;32m--> 751\u001b[0;31m             exception_prefix='input')\n\u001b[0m\u001b[1;32m    752\u001b[0m \u001b[0;34m\u001b[0m\u001b[0m\n\u001b[1;32m    753\u001b[0m         \u001b[0;32mif\u001b[0m \u001b[0my\u001b[0m \u001b[0;32mis\u001b[0m \u001b[0;32mnot\u001b[0m \u001b[0;32mNone\u001b[0m\u001b[0;34m:\u001b[0m\u001b[0;34m\u001b[0m\u001b[0;34m\u001b[0m\u001b[0m\n",
      "\u001b[0;32m~/anaconda3/lib/python3.7/site-packages/keras/engine/training_utils.py\u001b[0m in \u001b[0;36mstandardize_input_data\u001b[0;34m(data, names, shapes, check_batch_axis, exception_prefix)\u001b[0m\n\u001b[1;32m    126\u001b[0m                         \u001b[0;34m': expected '\u001b[0m \u001b[0;34m+\u001b[0m \u001b[0mnames\u001b[0m\u001b[0;34m[\u001b[0m\u001b[0mi\u001b[0m\u001b[0;34m]\u001b[0m \u001b[0;34m+\u001b[0m \u001b[0;34m' to have '\u001b[0m \u001b[0;34m+\u001b[0m\u001b[0;34m\u001b[0m\u001b[0;34m\u001b[0m\u001b[0m\n\u001b[1;32m    127\u001b[0m                         \u001b[0mstr\u001b[0m\u001b[0;34m(\u001b[0m\u001b[0mlen\u001b[0m\u001b[0;34m(\u001b[0m\u001b[0mshape\u001b[0m\u001b[0;34m)\u001b[0m\u001b[0;34m)\u001b[0m \u001b[0;34m+\u001b[0m \u001b[0;34m' dimensions, but got array '\u001b[0m\u001b[0;34m\u001b[0m\u001b[0;34m\u001b[0m\u001b[0m\n\u001b[0;32m--> 128\u001b[0;31m                         'with shape ' + str(data_shape))\n\u001b[0m\u001b[1;32m    129\u001b[0m                 \u001b[0;32mif\u001b[0m \u001b[0;32mnot\u001b[0m \u001b[0mcheck_batch_axis\u001b[0m\u001b[0;34m:\u001b[0m\u001b[0;34m\u001b[0m\u001b[0;34m\u001b[0m\u001b[0m\n\u001b[1;32m    130\u001b[0m                     \u001b[0mdata_shape\u001b[0m \u001b[0;34m=\u001b[0m \u001b[0mdata_shape\u001b[0m\u001b[0;34m[\u001b[0m\u001b[0;36m1\u001b[0m\u001b[0;34m:\u001b[0m\u001b[0;34m]\u001b[0m\u001b[0;34m\u001b[0m\u001b[0;34m\u001b[0m\u001b[0m\n",
      "\u001b[0;31mValueError\u001b[0m: Error when checking input: expected embedding_1_input to have 2 dimensions, but got array with shape (1, 10, 8)"
     ]
    }
   ],
   "source": [
    "int_to_word[np.argmax(model.predict(np.array([test]), verbose=0)[0])]"
   ]
  },
  {
   "cell_type": "code",
   "execution_count": 15,
   "metadata": {},
   "outputs": [
    {
     "name": "stdout",
     "output_type": "stream",
     "text": [
      "['eu', 'sou', 'um', '<PAD>', '<PAD>', '<PAD>', '<PAD>', '<PAD>', '<PAD>', '<PAD>']\n",
      "[4, 7, 3]\n"
     ]
    },
    {
     "data": {
      "text/plain": [
       "['texto', 'eu', 'um']"
      ]
     },
     "execution_count": 15,
     "metadata": {},
     "output_type": "execute_result"
    }
   ],
   "source": [
    "s = sample(model.predict(np.array([x_texts[2]]), verbose=0)[0])\n",
    "\n",
    "print([int_to_word[t] for t in x_texts[2]])\n",
    "print(s)\n",
    "[int_to_word[i] for i in s]"
   ]
  },
  {
   "cell_type": "code",
   "execution_count": 67,
   "metadata": {},
   "outputs": [],
   "source": [
    "def generate_arrays_from_file(path):\n",
    "    while True:\n",
    "        with open(path) as f:\n",
    "            for line in f:\n",
    "                x_texts = []\n",
    "                y_texts = []\n",
    "                text_arr = line.replace('\\n','').lower().split(' ')\n",
    "                \n",
    "                for i in range(1, len(text_arr)):\n",
    "                    aux = \" \".join(text_arr[:i])\n",
    "                    x_texts.append(pad_vector(text_to_int(aux), 10))\n",
    "                    y_texts.append(onehot_encode_text(text_to_int(text_arr[i]))[0])\n",
    "                \n",
    "                for x, y in zip(x_texts, y_texts):\n",
    "                    yield (np.array([x]), np.array([y]))"
   ]
  },
  {
   "cell_type": "code",
   "execution_count": 68,
   "metadata": {},
   "outputs": [
    {
     "name": "stdout",
     "output_type": "stream",
     "text": [
      "Epoch 1/10\n",
      "100/100 [==============================] - 2s 22ms/step - loss: 1.8527 - acc: 0.2700\n",
      "Epoch 2/10\n",
      "100/100 [==============================] - 1s 9ms/step - loss: 1.2726 - acc: 0.5400\n",
      "Epoch 3/10\n",
      "100/100 [==============================] - 1s 9ms/step - loss: 0.5480 - acc: 0.8800\n",
      "Epoch 4/10\n",
      "100/100 [==============================] - 1s 9ms/step - loss: 0.1665 - acc: 1.0000\n",
      "Epoch 5/10\n",
      "100/100 [==============================] - 1s 9ms/step - loss: 0.0582 - acc: 1.0000\n",
      "Epoch 6/10\n",
      "100/100 [==============================] - 1s 9ms/step - loss: 0.0264 - acc: 1.0000\n",
      "Epoch 7/10\n",
      "100/100 [==============================] - 1s 10ms/step - loss: 0.0145 - acc: 1.0000\n",
      "Epoch 8/10\n",
      "100/100 [==============================] - 1s 11ms/step - loss: 0.0091 - acc: 1.0000\n",
      "Epoch 9/10\n",
      "100/100 [==============================] - 1s 10ms/step - loss: 0.0062 - acc: 1.0000\n",
      "Epoch 10/10\n",
      "100/100 [==============================] - 1s 10ms/step - loss: 0.0045 - acc: 1.0000\n"
     ]
    },
    {
     "data": {
      "text/plain": [
       "<keras.callbacks.History at 0x7f3b7c0e5128>"
      ]
     },
     "execution_count": 68,
     "metadata": {},
     "output_type": "execute_result"
    }
   ],
   "source": [
    "model.fit_generator(generate_arrays_from_file('./teste.txt'),\n",
    "                    steps_per_epoch=100, epochs=10)"
   ]
  },
  {
   "cell_type": "code",
   "execution_count": 70,
   "metadata": {},
   "outputs": [
    {
     "data": {
      "text/plain": [
       "(array([[8, 1, 1, 1, 1, 1, 1, 1, 1, 1]]),\n",
       " array([[0., 0., 0., 0., 0., 0., 0., 1., 0.]], dtype=float32))"
      ]
     },
     "execution_count": 70,
     "metadata": {},
     "output_type": "execute_result"
    }
   ],
   "source": [
    "next(generate_arrays_from_file('./teste.txt'))"
   ]
  },
  {
   "cell_type": "code",
   "execution_count": 69,
   "metadata": {},
   "outputs": [
    {
     "name": "stdout",
     "output_type": "stream",
     "text": [
      "['eu', 'sou', 'um', '<PAD>', '<PAD>', '<PAD>', '<PAD>', '<PAD>', '<PAD>', '<PAD>']\n",
      "[5, 4, 7]\n"
     ]
    },
    {
     "data": {
      "text/plain": [
       "['texto', 'um', 'sou']"
      ]
     },
     "execution_count": 69,
     "metadata": {},
     "output_type": "execute_result"
    }
   ],
   "source": [
    "s = sample(model.predict(np.array([x_texts[2]]), verbose=0)[0])\n",
    "\n",
    "print([int_to_word[t] for t in x_texts[2]])\n",
    "print(s)\n",
    "[int_to_word[i] for i in s]"
   ]
  }
 ],
 "metadata": {
  "kernelspec": {
   "display_name": "Python [conda env:augmentation] *",
   "language": "python",
   "name": "conda-env-augmentation-py"
  },
  "language_info": {
   "codemirror_mode": {
    "name": "ipython",
    "version": 3
   },
   "file_extension": ".py",
   "mimetype": "text/x-python",
   "name": "python",
   "nbconvert_exporter": "python",
   "pygments_lexer": "ipython3",
   "version": "3.7.3"
  }
 },
 "nbformat": 4,
 "nbformat_minor": 2
}
