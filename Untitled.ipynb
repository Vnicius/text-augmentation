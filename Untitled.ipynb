{
 "cells": [
  {
   "cell_type": "code",
   "execution_count": 1,
   "metadata": {},
   "outputs": [
    {
     "name": "stderr",
     "output_type": "stream",
     "text": [
      "Using TensorFlow backend.\n"
     ]
    }
   ],
   "source": [
    "from keras.utils import to_categorical\n",
    "from keras.models import Sequential\n",
    "from keras.layers import Dense, LSTM, Activation,Embedding\n",
    "from keras.layers import Bidirectional\n",
    "import numpy as np\n",
    "import heapq"
   ]
  },
  {
   "cell_type": "code",
   "execution_count": 2,
   "metadata": {},
   "outputs": [],
   "source": [
    "texts = [\"Eu sou um texto\", \"texto sou eu\", \"minha casa\", \"com Texto\"]\n",
    "texts = [t.lower() for t in texts]"
   ]
  },
  {
   "cell_type": "code",
   "execution_count": 3,
   "metadata": {},
   "outputs": [],
   "source": [
    "words = set(['<PAD>'])\n",
    "\n",
    "for line in texts:\n",
    "    for word in line.split(' '):\n",
    "        words.add(word)"
   ]
  },
  {
   "cell_type": "code",
   "execution_count": 4,
   "metadata": {},
   "outputs": [
    {
     "name": "stdout",
     "output_type": "stream",
     "text": [
      "{'sou': 0, 'com': 1, '<PAD>': 2, 'texto': 3, 'eu': 4, 'minha': 5, 'casa': 6, 'um': 7}\n"
     ]
    }
   ],
   "source": [
    "word_to_int = {}\n",
    "int_to_word = {}\n",
    "\n",
    "for word in words:\n",
    "    word_to_int[word] = len(word_to_int)\n",
    "    int_to_word[len(int_to_word)] = word\n",
    "\n",
    "print(word_to_int)"
   ]
  },
  {
   "cell_type": "code",
   "execution_count": 5,
   "metadata": {},
   "outputs": [],
   "source": [
    "def text_to_int(text):\n",
    "    return [word_to_int[word] for word in text.split(' ')]\n",
    "\n",
    "def int_seq_to_text(seq):\n",
    "    return ' '.join([int_to_word[number] for number in seq])\n",
    "\n",
    "def pad_vector(vector, limit):\n",
    "    pad = np.array([word_to_int['<PAD>']] * limit)\n",
    "    pad[:len(vector)] = vector\n",
    "    return pad"
   ]
  },
  {
   "cell_type": "code",
   "execution_count": 6,
   "metadata": {},
   "outputs": [],
   "source": [
    "def sample(preds, top_n=3):\n",
    "    preds = np.asarray(preds).astype('float64')\n",
    "    preds = np.log(preds)\n",
    "    exp_preds = np.exp(preds)\n",
    "    preds = exp_preds / np.sum(exp_preds)\n",
    "    \n",
    "    return heapq.nlargest(top_n, range(len(preds)), preds.take)"
   ]
  },
  {
   "cell_type": "code",
   "execution_count": 7,
   "metadata": {},
   "outputs": [],
   "source": [
    "def onehot_encode_text(text):\n",
    "    return to_categorical(text, num_classes=len(words))"
   ]
  },
  {
   "cell_type": "code",
   "execution_count": 8,
   "metadata": {},
   "outputs": [],
   "source": [
    "x_texts = []\n",
    "y_texts = []\n",
    "for text in texts:\n",
    "    text_arr = text.split(' ')\n",
    "    for i in range(1, len(text_arr)):\n",
    "        aux = \" \".join(text_arr[:i])\n",
    "        x_texts.append(pad_vector(text_to_int(aux), 10))\n",
    "        y_texts.append(onehot_encode_text(text_to_int(text_arr[i]))[0])\n",
    "\n",
    "x_texts = np.array(x_texts)\n",
    "y_texts = np.array(y_texts)"
   ]
  },
  {
   "cell_type": "code",
   "execution_count": 9,
   "metadata": {},
   "outputs": [
    {
     "data": {
      "text/plain": [
       "array([[4, 2, 2, 2, 2, 2, 2, 2, 2, 2],\n",
       "       [4, 0, 2, 2, 2, 2, 2, 2, 2, 2],\n",
       "       [4, 0, 7, 2, 2, 2, 2, 2, 2, 2],\n",
       "       [3, 2, 2, 2, 2, 2, 2, 2, 2, 2],\n",
       "       [3, 0, 2, 2, 2, 2, 2, 2, 2, 2],\n",
       "       [5, 2, 2, 2, 2, 2, 2, 2, 2, 2],\n",
       "       [1, 2, 2, 2, 2, 2, 2, 2, 2, 2]])"
      ]
     },
     "execution_count": 9,
     "metadata": {},
     "output_type": "execute_result"
    }
   ],
   "source": [
    "x_texts"
   ]
  },
  {
   "cell_type": "code",
   "execution_count": 10,
   "metadata": {},
   "outputs": [
    {
     "data": {
      "text/plain": [
       "array([[1., 0., 0., 0., 0., 0., 0., 0.],\n",
       "       [0., 0., 0., 0., 0., 0., 0., 1.],\n",
       "       [0., 0., 0., 1., 0., 0., 0., 0.],\n",
       "       [1., 0., 0., 0., 0., 0., 0., 0.],\n",
       "       [0., 0., 0., 0., 1., 0., 0., 0.],\n",
       "       [0., 0., 0., 0., 0., 0., 1., 0.],\n",
       "       [0., 0., 0., 1., 0., 0., 0., 0.]], dtype=float32)"
      ]
     },
     "execution_count": 10,
     "metadata": {},
     "output_type": "execute_result"
    }
   ],
   "source": [
    "y_texts"
   ]
  },
  {
   "cell_type": "code",
   "execution_count": 20,
   "metadata": {},
   "outputs": [],
   "source": [
    "model = Sequential()\n",
    "model.add(Embedding(len(words), 32, input_length=10))\n",
    "model.add(Bidirectional(LSTM(128)))\n",
    "model.add(Dense(len(words)))\n",
    "model.add(Activation('softmax'))\n",
    "model.compile(loss=\"categorical_crossentropy\", optimizer=\"adam\", metrics=['accuracy'])"
   ]
  },
  {
   "cell_type": "code",
   "execution_count": 21,
   "metadata": {},
   "outputs": [
    {
     "name": "stdout",
     "output_type": "stream",
     "text": [
      "Train on 5 samples, validate on 2 samples\n",
      "Epoch 1/100\n",
      "5/5 [==============================] - 3s 631ms/step - loss: 2.0845 - acc: 0.0000e+00 - val_loss: 2.0664 - val_acc: 0.5000\n",
      "Epoch 2/100\n",
      "5/5 [==============================] - 0s 24ms/step - loss: 2.0321 - acc: 0.4000 - val_loss: 2.0823 - val_acc: 0.0000e+00\n",
      "Epoch 3/100\n",
      "5/5 [==============================] - 0s 26ms/step - loss: 1.9708 - acc: 0.4000 - val_loss: 2.1033 - val_acc: 0.0000e+00\n",
      "Epoch 4/100\n",
      "5/5 [==============================] - 0s 27ms/step - loss: 1.8604 - acc: 0.4000 - val_loss: 2.1530 - val_acc: 0.0000e+00\n",
      "Epoch 5/100\n",
      "5/5 [==============================] - 0s 26ms/step - loss: 1.7101 - acc: 0.4000 - val_loss: 2.4362 - val_acc: 0.0000e+00\n",
      "Epoch 6/100\n",
      "5/5 [==============================] - 0s 28ms/step - loss: 1.4856 - acc: 0.4000 - val_loss: 3.3115 - val_acc: 0.0000e+00\n",
      "Epoch 7/100\n",
      "5/5 [==============================] - 0s 28ms/step - loss: 1.4511 - acc: 0.4000 - val_loss: 3.8369 - val_acc: 0.0000e+00\n",
      "Epoch 8/100\n",
      "5/5 [==============================] - 0s 28ms/step - loss: 1.4483 - acc: 0.4000 - val_loss: 3.5471 - val_acc: 0.0000e+00\n",
      "Epoch 9/100\n",
      "5/5 [==============================] - 0s 27ms/step - loss: 1.3470 - acc: 0.4000 - val_loss: 3.8565 - val_acc: 0.0000e+00\n",
      "Epoch 10/100\n",
      "5/5 [==============================] - 0s 30ms/step - loss: 1.3363 - acc: 0.4000 - val_loss: 3.9459 - val_acc: 0.0000e+00\n",
      "Epoch 11/100\n",
      "5/5 [==============================] - 0s 27ms/step - loss: 1.3161 - acc: 0.4000 - val_loss: 4.2825 - val_acc: 0.0000e+00\n",
      "Epoch 12/100\n",
      "5/5 [==============================] - 0s 27ms/step - loss: 1.2788 - acc: 0.4000 - val_loss: 4.5017 - val_acc: 0.0000e+00\n",
      "Epoch 13/100\n",
      "5/5 [==============================] - 0s 28ms/step - loss: 1.2892 - acc: 0.4000 - val_loss: 4.3038 - val_acc: 0.0000e+00\n",
      "Epoch 14/100\n",
      "5/5 [==============================] - 0s 41ms/step - loss: 1.2225 - acc: 0.4000 - val_loss: 4.6722 - val_acc: 0.0000e+00\n",
      "Epoch 15/100\n",
      "5/5 [==============================] - 0s 42ms/step - loss: 1.1894 - acc: 0.4000 - val_loss: 5.5602 - val_acc: 0.0000e+00\n",
      "Epoch 16/100\n",
      "5/5 [==============================] - 0s 26ms/step - loss: 1.1158 - acc: 0.4000 - val_loss: 6.2805 - val_acc: 0.0000e+00\n",
      "Epoch 17/100\n",
      "5/5 [==============================] - 0s 28ms/step - loss: 1.0495 - acc: 0.6000 - val_loss: 6.2675 - val_acc: 0.0000e+00\n",
      "Epoch 18/100\n",
      "5/5 [==============================] - 0s 42ms/step - loss: 0.8992 - acc: 0.6000 - val_loss: 7.9806 - val_acc: 0.0000e+00\n",
      "Epoch 19/100\n",
      "5/5 [==============================] - 0s 30ms/step - loss: 0.8003 - acc: 0.6000 - val_loss: 9.5344 - val_acc: 0.0000e+00\n",
      "Epoch 20/100\n",
      "5/5 [==============================] - 0s 35ms/step - loss: 0.6680 - acc: 0.6000 - val_loss: 10.2095 - val_acc: 0.0000e+00\n",
      "Epoch 21/100\n",
      "5/5 [==============================] - 0s 39ms/step - loss: 0.5956 - acc: 0.8000 - val_loss: 10.7458 - val_acc: 0.0000e+00\n",
      "Epoch 22/100\n",
      "5/5 [==============================] - 0s 28ms/step - loss: 0.5076 - acc: 0.8000 - val_loss: 11.2312 - val_acc: 0.0000e+00\n",
      "Epoch 23/100\n",
      "5/5 [==============================] - 0s 35ms/step - loss: 0.4258 - acc: 1.0000 - val_loss: 11.3821 - val_acc: 0.0000e+00\n",
      "Epoch 24/100\n",
      "5/5 [==============================] - 0s 42ms/step - loss: 0.3881 - acc: 1.0000 - val_loss: 11.5117 - val_acc: 0.0000e+00\n",
      "Epoch 25/100\n",
      "5/5 [==============================] - 0s 25ms/step - loss: 0.3152 - acc: 1.0000 - val_loss: 11.5752 - val_acc: 0.0000e+00\n",
      "Epoch 26/100\n",
      "5/5 [==============================] - 0s 27ms/step - loss: 0.3136 - acc: 1.0000 - val_loss: 11.5661 - val_acc: 0.0000e+00\n",
      "Epoch 27/100\n",
      "5/5 [==============================] - 0s 27ms/step - loss: 0.2337 - acc: 1.0000 - val_loss: 11.6835 - val_acc: 0.0000e+00\n",
      "Epoch 28/100\n",
      "5/5 [==============================] - 0s 29ms/step - loss: 0.2240 - acc: 1.0000 - val_loss: 11.9175 - val_acc: 0.0000e+00\n",
      "Epoch 29/100\n",
      "5/5 [==============================] - 0s 27ms/step - loss: 0.2371 - acc: 1.0000 - val_loss: 12.0291 - val_acc: 0.0000e+00\n",
      "Epoch 30/100\n",
      "5/5 [==============================] - 0s 28ms/step - loss: 0.3975 - acc: 0.8000 - val_loss: 11.9279 - val_acc: 0.0000e+00\n",
      "Epoch 31/100\n",
      "5/5 [==============================] - 0s 29ms/step - loss: 0.1880 - acc: 1.0000 - val_loss: 12.3591 - val_acc: 0.0000e+00\n",
      "Epoch 32/100\n",
      "5/5 [==============================] - 0s 28ms/step - loss: 0.4192 - acc: 0.8000 - val_loss: 12.7621 - val_acc: 0.0000e+00\n",
      "Epoch 33/100\n",
      "5/5 [==============================] - 0s 29ms/step - loss: 0.1459 - acc: 1.0000 - val_loss: 12.4141 - val_acc: 0.0000e+00\n",
      "Epoch 34/100\n",
      "5/5 [==============================] - 0s 30ms/step - loss: 0.2404 - acc: 1.0000 - val_loss: 12.4699 - val_acc: 0.0000e+00\n",
      "Epoch 35/100\n",
      "5/5 [==============================] - 0s 29ms/step - loss: 0.1401 - acc: 1.0000 - val_loss: 12.6954 - val_acc: 0.0000e+00\n",
      "Epoch 36/100\n",
      "5/5 [==============================] - 0s 27ms/step - loss: 0.1082 - acc: 1.0000 - val_loss: 12.5042 - val_acc: 0.0000e+00\n",
      "Epoch 37/100\n",
      "5/5 [==============================] - 0s 24ms/step - loss: 0.1126 - acc: 1.0000 - val_loss: 12.4282 - val_acc: 0.0000e+00\n",
      "Epoch 38/100\n",
      "5/5 [==============================] - 0s 25ms/step - loss: 0.0924 - acc: 1.0000 - val_loss: 12.6852 - val_acc: 0.0000e+00\n",
      "Epoch 39/100\n",
      "5/5 [==============================] - 0s 25ms/step - loss: 0.0667 - acc: 1.0000 - val_loss: 12.6786 - val_acc: 0.0000e+00\n",
      "Epoch 40/100\n",
      "5/5 [==============================] - 0s 25ms/step - loss: 0.0563 - acc: 1.0000 - val_loss: 12.7381 - val_acc: 0.0000e+00\n",
      "Epoch 41/100\n",
      "5/5 [==============================] - 0s 35ms/step - loss: 0.0493 - acc: 1.0000 - val_loss: 12.8057 - val_acc: 0.0000e+00\n",
      "Epoch 42/100\n",
      "5/5 [==============================] - 0s 39ms/step - loss: 0.0453 - acc: 1.0000 - val_loss: 12.8876 - val_acc: 0.0000e+00\n",
      "Epoch 43/100\n",
      "5/5 [==============================] - 0s 31ms/step - loss: 0.0391 - acc: 1.0000 - val_loss: 12.9349 - val_acc: 0.0000e+00\n",
      "Epoch 44/100\n",
      "5/5 [==============================] - 0s 27ms/step - loss: 0.0354 - acc: 1.0000 - val_loss: 12.9920 - val_acc: 0.0000e+00\n",
      "Epoch 45/100\n",
      "5/5 [==============================] - 0s 28ms/step - loss: 0.0319 - acc: 1.0000 - val_loss: 13.0390 - val_acc: 0.0000e+00\n",
      "Epoch 46/100\n",
      "5/5 [==============================] - 0s 31ms/step - loss: 0.0290 - acc: 1.0000 - val_loss: 13.0678 - val_acc: 0.0000e+00\n",
      "Epoch 47/100\n",
      "5/5 [==============================] - 0s 27ms/step - loss: 0.0264 - acc: 1.0000 - val_loss: 13.1306 - val_acc: 0.0000e+00\n",
      "Epoch 48/100\n",
      "5/5 [==============================] - 0s 28ms/step - loss: 0.0239 - acc: 1.0000 - val_loss: 13.2160 - val_acc: 0.0000e+00\n",
      "Epoch 49/100\n",
      "5/5 [==============================] - 0s 37ms/step - loss: 0.0224 - acc: 1.0000 - val_loss: 13.2378 - val_acc: 0.0000e+00\n",
      "Epoch 50/100\n",
      "5/5 [==============================] - 0s 35ms/step - loss: 0.0202 - acc: 1.0000 - val_loss: 13.2833 - val_acc: 0.0000e+00\n",
      "Epoch 51/100\n",
      "5/5 [==============================] - 0s 37ms/step - loss: 0.0186 - acc: 1.0000 - val_loss: 13.3353 - val_acc: 0.0000e+00\n",
      "Epoch 52/100\n",
      "5/5 [==============================] - 0s 38ms/step - loss: 0.0173 - acc: 1.0000 - val_loss: 13.3876 - val_acc: 0.0000e+00\n",
      "Epoch 53/100\n",
      "5/5 [==============================] - 0s 38ms/step - loss: 0.0160 - acc: 1.0000 - val_loss: 13.4307 - val_acc: 0.0000e+00\n",
      "Epoch 54/100\n",
      "5/5 [==============================] - 0s 34ms/step - loss: 0.0148 - acc: 1.0000 - val_loss: 13.4711 - val_acc: 0.0000e+00\n",
      "Epoch 55/100\n",
      "5/5 [==============================] - 0s 36ms/step - loss: 0.0139 - acc: 1.0000 - val_loss: 13.5166 - val_acc: 0.0000e+00\n",
      "Epoch 56/100\n",
      "5/5 [==============================] - 0s 35ms/step - loss: 0.0130 - acc: 1.0000 - val_loss: 13.5536 - val_acc: 0.0000e+00\n",
      "Epoch 57/100\n",
      "5/5 [==============================] - 0s 29ms/step - loss: 0.0124 - acc: 1.0000 - val_loss: 13.5738 - val_acc: 0.0000e+00\n",
      "Epoch 58/100\n",
      "5/5 [==============================] - 0s 37ms/step - loss: 0.0114 - acc: 1.0000 - val_loss: 13.6159 - val_acc: 0.0000e+00\n",
      "Epoch 59/100\n",
      "5/5 [==============================] - 0s 29ms/step - loss: 0.0110 - acc: 1.0000 - val_loss: 13.6403 - val_acc: 0.0000e+00\n",
      "Epoch 60/100\n",
      "5/5 [==============================] - 0s 39ms/step - loss: 0.0102 - acc: 1.0000 - val_loss: 13.6709 - val_acc: 0.0000e+00\n",
      "Epoch 61/100\n"
     ]
    },
    {
     "name": "stdout",
     "output_type": "stream",
     "text": [
      "5/5 [==============================] - 0s 33ms/step - loss: 0.0096 - acc: 1.0000 - val_loss: 13.6914 - val_acc: 0.0000e+00\n",
      "Epoch 62/100\n",
      "5/5 [==============================] - 0s 37ms/step - loss: 0.0091 - acc: 1.0000 - val_loss: 13.7297 - val_acc: 0.0000e+00\n",
      "Epoch 63/100\n",
      "5/5 [==============================] - 0s 25ms/step - loss: 0.0087 - acc: 1.0000 - val_loss: 13.7576 - val_acc: 0.0000e+00\n",
      "Epoch 64/100\n",
      "5/5 [==============================] - 0s 24ms/step - loss: 0.0082 - acc: 1.0000 - val_loss: 13.7836 - val_acc: 0.0000e+00\n",
      "Epoch 65/100\n",
      "5/5 [==============================] - 0s 26ms/step - loss: 0.0078 - acc: 1.0000 - val_loss: 13.8119 - val_acc: 0.0000e+00\n",
      "Epoch 66/100\n",
      "5/5 [==============================] - 0s 34ms/step - loss: 0.0075 - acc: 1.0000 - val_loss: 13.8426 - val_acc: 0.0000e+00\n",
      "Epoch 67/100\n",
      "5/5 [==============================] - 0s 33ms/step - loss: 0.0072 - acc: 1.0000 - val_loss: 13.8497 - val_acc: 0.0000e+00\n",
      "Epoch 68/100\n",
      "5/5 [==============================] - 0s 26ms/step - loss: 0.0068 - acc: 1.0000 - val_loss: 13.8672 - val_acc: 0.0000e+00\n",
      "Epoch 69/100\n",
      "5/5 [==============================] - 0s 29ms/step - loss: 0.0065 - acc: 1.0000 - val_loss: 13.9029 - val_acc: 0.0000e+00\n",
      "Epoch 70/100\n",
      "5/5 [==============================] - 0s 27ms/step - loss: 0.0062 - acc: 1.0000 - val_loss: 13.9219 - val_acc: 0.0000e+00\n",
      "Epoch 71/100\n",
      "5/5 [==============================] - 0s 29ms/step - loss: 0.0060 - acc: 1.0000 - val_loss: 13.9379 - val_acc: 0.0000e+00\n",
      "Epoch 72/100\n",
      "5/5 [==============================] - 0s 26ms/step - loss: 0.0057 - acc: 1.0000 - val_loss: 13.9725 - val_acc: 0.0000e+00\n",
      "Epoch 73/100\n",
      "5/5 [==============================] - 0s 29ms/step - loss: 0.0055 - acc: 1.0000 - val_loss: 13.9841 - val_acc: 0.0000e+00\n",
      "Epoch 74/100\n",
      "5/5 [==============================] - 0s 27ms/step - loss: 0.0052 - acc: 1.0000 - val_loss: 14.0050 - val_acc: 0.0000e+00\n",
      "Epoch 75/100\n",
      "5/5 [==============================] - 0s 34ms/step - loss: 0.0050 - acc: 1.0000 - val_loss: 14.0277 - val_acc: 0.0000e+00\n",
      "Epoch 76/100\n",
      "5/5 [==============================] - 0s 42ms/step - loss: 0.0048 - acc: 1.0000 - val_loss: 14.0445 - val_acc: 0.0000e+00\n",
      "Epoch 77/100\n",
      "5/5 [==============================] - 0s 26ms/step - loss: 0.0046 - acc: 1.0000 - val_loss: 14.0636 - val_acc: 0.0000e+00\n",
      "Epoch 78/100\n",
      "5/5 [==============================] - 0s 27ms/step - loss: 0.0045 - acc: 1.0000 - val_loss: 14.0820 - val_acc: 0.0000e+00\n",
      "Epoch 79/100\n",
      "5/5 [==============================] - 0s 44ms/step - loss: 0.0043 - acc: 1.0000 - val_loss: 14.0952 - val_acc: 0.0000e+00\n",
      "Epoch 80/100\n",
      "5/5 [==============================] - 0s 33ms/step - loss: 0.0042 - acc: 1.0000 - val_loss: 14.1087 - val_acc: 0.0000e+00\n",
      "Epoch 81/100\n",
      "5/5 [==============================] - 0s 42ms/step - loss: 0.0040 - acc: 1.0000 - val_loss: 14.1336 - val_acc: 0.0000e+00\n",
      "Epoch 82/100\n",
      "5/5 [==============================] - 0s 25ms/step - loss: 0.0039 - acc: 1.0000 - val_loss: 14.1480 - val_acc: 0.0000e+00\n",
      "Epoch 83/100\n",
      "5/5 [==============================] - 0s 34ms/step - loss: 0.0038 - acc: 1.0000 - val_loss: 14.1643 - val_acc: 0.0000e+00\n",
      "Epoch 84/100\n",
      "5/5 [==============================] - 0s 47ms/step - loss: 0.0037 - acc: 1.0000 - val_loss: 14.1736 - val_acc: 0.0000e+00\n",
      "Epoch 85/100\n",
      "5/5 [==============================] - 0s 28ms/step - loss: 0.0035 - acc: 1.0000 - val_loss: 14.1903 - val_acc: 0.0000e+00\n",
      "Epoch 86/100\n",
      "5/5 [==============================] - 0s 30ms/step - loss: 0.0034 - acc: 1.0000 - val_loss: 14.2128 - val_acc: 0.0000e+00\n",
      "Epoch 87/100\n",
      "5/5 [==============================] - 0s 27ms/step - loss: 0.0033 - acc: 1.0000 - val_loss: 14.2301 - val_acc: 0.0000e+00\n",
      "Epoch 88/100\n",
      "5/5 [==============================] - 0s 30ms/step - loss: 0.0032 - acc: 1.0000 - val_loss: 14.2383 - val_acc: 0.0000e+00\n",
      "Epoch 89/100\n",
      "5/5 [==============================] - 0s 35ms/step - loss: 0.0031 - acc: 1.0000 - val_loss: 14.2516 - val_acc: 0.0000e+00\n",
      "Epoch 90/100\n",
      "5/5 [==============================] - 0s 29ms/step - loss: 0.0030 - acc: 1.0000 - val_loss: 14.2719 - val_acc: 0.0000e+00\n",
      "Epoch 91/100\n",
      "5/5 [==============================] - 0s 46ms/step - loss: 0.0030 - acc: 1.0000 - val_loss: 14.2817 - val_acc: 0.0000e+00\n",
      "Epoch 92/100\n",
      "5/5 [==============================] - 0s 47ms/step - loss: 0.0029 - acc: 1.0000 - val_loss: 14.2964 - val_acc: 0.0000e+00\n",
      "Epoch 93/100\n",
      "5/5 [==============================] - 0s 43ms/step - loss: 0.0028 - acc: 1.0000 - val_loss: 14.3096 - val_acc: 0.0000e+00\n",
      "Epoch 94/100\n",
      "5/5 [==============================] - 0s 32ms/step - loss: 0.0027 - acc: 1.0000 - val_loss: 14.3263 - val_acc: 0.0000e+00\n",
      "Epoch 95/100\n",
      "5/5 [==============================] - 0s 30ms/step - loss: 0.0027 - acc: 1.0000 - val_loss: 14.3400 - val_acc: 0.0000e+00\n",
      "Epoch 96/100\n",
      "5/5 [==============================] - 0s 29ms/step - loss: 0.0026 - acc: 1.0000 - val_loss: 14.3546 - val_acc: 0.0000e+00\n",
      "Epoch 97/100\n",
      "5/5 [==============================] - 0s 31ms/step - loss: 0.0025 - acc: 1.0000 - val_loss: 14.3628 - val_acc: 0.0000e+00\n",
      "Epoch 98/100\n",
      "5/5 [==============================] - 0s 28ms/step - loss: 0.0025 - acc: 1.0000 - val_loss: 14.3748 - val_acc: 0.0000e+00\n",
      "Epoch 99/100\n",
      "5/5 [==============================] - 0s 31ms/step - loss: 0.0024 - acc: 1.0000 - val_loss: 14.3824 - val_acc: 0.0000e+00\n",
      "Epoch 100/100\n",
      "5/5 [==============================] - 0s 28ms/step - loss: 0.0024 - acc: 1.0000 - val_loss: 14.3974 - val_acc: 0.0000e+00\n"
     ]
    }
   ],
   "source": [
    "history = model.fit(x=x_texts, y=y_texts, epochs=100, batch_size=1,verbose=1, validation_split=0.2, shuffle=True)"
   ]
  },
  {
   "cell_type": "code",
   "execution_count": 13,
   "metadata": {},
   "outputs": [],
   "source": [
    "test = onehot_encode_text(pad_vector(text_to_int(\" \".join(texts[2].split(' ')[::-1][:-1])), 10))"
   ]
  },
  {
   "cell_type": "code",
   "execution_count": 14,
   "metadata": {},
   "outputs": [
    {
     "ename": "ValueError",
     "evalue": "Error when checking input: expected embedding_1_input to have 2 dimensions, but got array with shape (1, 10, 8)",
     "output_type": "error",
     "traceback": [
      "\u001b[0;31m---------------------------------------------------------------------------\u001b[0m",
      "\u001b[0;31mValueError\u001b[0m                                Traceback (most recent call last)",
      "\u001b[0;32m<ipython-input-14-d92a12031cca>\u001b[0m in \u001b[0;36m<module>\u001b[0;34m\u001b[0m\n\u001b[0;32m----> 1\u001b[0;31m \u001b[0mint_to_word\u001b[0m\u001b[0;34m[\u001b[0m\u001b[0mnp\u001b[0m\u001b[0;34m.\u001b[0m\u001b[0margmax\u001b[0m\u001b[0;34m(\u001b[0m\u001b[0mmodel\u001b[0m\u001b[0;34m.\u001b[0m\u001b[0mpredict\u001b[0m\u001b[0;34m(\u001b[0m\u001b[0mnp\u001b[0m\u001b[0;34m.\u001b[0m\u001b[0marray\u001b[0m\u001b[0;34m(\u001b[0m\u001b[0;34m[\u001b[0m\u001b[0mtest\u001b[0m\u001b[0;34m]\u001b[0m\u001b[0;34m)\u001b[0m\u001b[0;34m,\u001b[0m \u001b[0mverbose\u001b[0m\u001b[0;34m=\u001b[0m\u001b[0;36m0\u001b[0m\u001b[0;34m)\u001b[0m\u001b[0;34m[\u001b[0m\u001b[0;36m0\u001b[0m\u001b[0;34m]\u001b[0m\u001b[0;34m)\u001b[0m\u001b[0;34m]\u001b[0m\u001b[0;34m\u001b[0m\u001b[0;34m\u001b[0m\u001b[0m\n\u001b[0m",
      "\u001b[0;32m~/anaconda3/lib/python3.7/site-packages/keras/engine/training.py\u001b[0m in \u001b[0;36mpredict\u001b[0;34m(self, x, batch_size, verbose, steps)\u001b[0m\n\u001b[1;32m   1147\u001b[0m                              'argument.')\n\u001b[1;32m   1148\u001b[0m         \u001b[0;31m# Validate user data.\u001b[0m\u001b[0;34m\u001b[0m\u001b[0;34m\u001b[0m\u001b[0;34m\u001b[0m\u001b[0m\n\u001b[0;32m-> 1149\u001b[0;31m         \u001b[0mx\u001b[0m\u001b[0;34m,\u001b[0m \u001b[0m_\u001b[0m\u001b[0;34m,\u001b[0m \u001b[0m_\u001b[0m \u001b[0;34m=\u001b[0m \u001b[0mself\u001b[0m\u001b[0;34m.\u001b[0m\u001b[0m_standardize_user_data\u001b[0m\u001b[0;34m(\u001b[0m\u001b[0mx\u001b[0m\u001b[0;34m)\u001b[0m\u001b[0;34m\u001b[0m\u001b[0;34m\u001b[0m\u001b[0m\n\u001b[0m\u001b[1;32m   1150\u001b[0m         \u001b[0;32mif\u001b[0m \u001b[0mself\u001b[0m\u001b[0;34m.\u001b[0m\u001b[0mstateful\u001b[0m\u001b[0;34m:\u001b[0m\u001b[0;34m\u001b[0m\u001b[0;34m\u001b[0m\u001b[0m\n\u001b[1;32m   1151\u001b[0m             \u001b[0;32mif\u001b[0m \u001b[0mx\u001b[0m\u001b[0;34m[\u001b[0m\u001b[0;36m0\u001b[0m\u001b[0;34m]\u001b[0m\u001b[0;34m.\u001b[0m\u001b[0mshape\u001b[0m\u001b[0;34m[\u001b[0m\u001b[0;36m0\u001b[0m\u001b[0;34m]\u001b[0m \u001b[0;34m>\u001b[0m \u001b[0mbatch_size\u001b[0m \u001b[0;32mand\u001b[0m \u001b[0mx\u001b[0m\u001b[0;34m[\u001b[0m\u001b[0;36m0\u001b[0m\u001b[0;34m]\u001b[0m\u001b[0;34m.\u001b[0m\u001b[0mshape\u001b[0m\u001b[0;34m[\u001b[0m\u001b[0;36m0\u001b[0m\u001b[0;34m]\u001b[0m \u001b[0;34m%\u001b[0m \u001b[0mbatch_size\u001b[0m \u001b[0;34m!=\u001b[0m \u001b[0;36m0\u001b[0m\u001b[0;34m:\u001b[0m\u001b[0;34m\u001b[0m\u001b[0;34m\u001b[0m\u001b[0m\n",
      "\u001b[0;32m~/anaconda3/lib/python3.7/site-packages/keras/engine/training.py\u001b[0m in \u001b[0;36m_standardize_user_data\u001b[0;34m(self, x, y, sample_weight, class_weight, check_array_lengths, batch_size)\u001b[0m\n\u001b[1;32m    749\u001b[0m             \u001b[0mfeed_input_shapes\u001b[0m\u001b[0;34m,\u001b[0m\u001b[0;34m\u001b[0m\u001b[0;34m\u001b[0m\u001b[0m\n\u001b[1;32m    750\u001b[0m             \u001b[0mcheck_batch_axis\u001b[0m\u001b[0;34m=\u001b[0m\u001b[0;32mFalse\u001b[0m\u001b[0;34m,\u001b[0m  \u001b[0;31m# Don't enforce the batch size.\u001b[0m\u001b[0;34m\u001b[0m\u001b[0;34m\u001b[0m\u001b[0m\n\u001b[0;32m--> 751\u001b[0;31m             exception_prefix='input')\n\u001b[0m\u001b[1;32m    752\u001b[0m \u001b[0;34m\u001b[0m\u001b[0m\n\u001b[1;32m    753\u001b[0m         \u001b[0;32mif\u001b[0m \u001b[0my\u001b[0m \u001b[0;32mis\u001b[0m \u001b[0;32mnot\u001b[0m \u001b[0;32mNone\u001b[0m\u001b[0;34m:\u001b[0m\u001b[0;34m\u001b[0m\u001b[0;34m\u001b[0m\u001b[0m\n",
      "\u001b[0;32m~/anaconda3/lib/python3.7/site-packages/keras/engine/training_utils.py\u001b[0m in \u001b[0;36mstandardize_input_data\u001b[0;34m(data, names, shapes, check_batch_axis, exception_prefix)\u001b[0m\n\u001b[1;32m    126\u001b[0m                         \u001b[0;34m': expected '\u001b[0m \u001b[0;34m+\u001b[0m \u001b[0mnames\u001b[0m\u001b[0;34m[\u001b[0m\u001b[0mi\u001b[0m\u001b[0;34m]\u001b[0m \u001b[0;34m+\u001b[0m \u001b[0;34m' to have '\u001b[0m \u001b[0;34m+\u001b[0m\u001b[0;34m\u001b[0m\u001b[0;34m\u001b[0m\u001b[0m\n\u001b[1;32m    127\u001b[0m                         \u001b[0mstr\u001b[0m\u001b[0;34m(\u001b[0m\u001b[0mlen\u001b[0m\u001b[0;34m(\u001b[0m\u001b[0mshape\u001b[0m\u001b[0;34m)\u001b[0m\u001b[0;34m)\u001b[0m \u001b[0;34m+\u001b[0m \u001b[0;34m' dimensions, but got array '\u001b[0m\u001b[0;34m\u001b[0m\u001b[0;34m\u001b[0m\u001b[0m\n\u001b[0;32m--> 128\u001b[0;31m                         'with shape ' + str(data_shape))\n\u001b[0m\u001b[1;32m    129\u001b[0m                 \u001b[0;32mif\u001b[0m \u001b[0;32mnot\u001b[0m \u001b[0mcheck_batch_axis\u001b[0m\u001b[0;34m:\u001b[0m\u001b[0;34m\u001b[0m\u001b[0;34m\u001b[0m\u001b[0m\n\u001b[1;32m    130\u001b[0m                     \u001b[0mdata_shape\u001b[0m \u001b[0;34m=\u001b[0m \u001b[0mdata_shape\u001b[0m\u001b[0;34m[\u001b[0m\u001b[0;36m1\u001b[0m\u001b[0;34m:\u001b[0m\u001b[0;34m]\u001b[0m\u001b[0;34m\u001b[0m\u001b[0;34m\u001b[0m\u001b[0m\n",
      "\u001b[0;31mValueError\u001b[0m: Error when checking input: expected embedding_1_input to have 2 dimensions, but got array with shape (1, 10, 8)"
     ]
    }
   ],
   "source": [
    "int_to_word[np.argmax(model.predict(np.array([test]), verbose=0)[0])]"
   ]
  },
  {
   "cell_type": "code",
   "execution_count": 16,
   "metadata": {},
   "outputs": [
    {
     "name": "stdout",
     "output_type": "stream",
     "text": [
      "['eu', 'sou', 'um', '<PAD>', '<PAD>', '<PAD>', '<PAD>', '<PAD>', '<PAD>', '<PAD>']\n",
      "[3, 7, 0]\n"
     ]
    },
    {
     "data": {
      "text/plain": [
       "['texto', 'um', 'sou']"
      ]
     },
     "execution_count": 16,
     "metadata": {},
     "output_type": "execute_result"
    }
   ],
   "source": [
    "s = sample(model.predict(np.array([x_texts[2]]), verbose=0)[0])\n",
    "\n",
    "print([int_to_word[t] for t in x_texts[2]])\n",
    "print(s)\n",
    "[int_to_word[i] for i in s]"
   ]
  }
 ],
 "metadata": {
  "kernelspec": {
   "display_name": "Python [conda env:root] *",
   "language": "python",
   "name": "conda-root-py"
  },
  "language_info": {
   "codemirror_mode": {
    "name": "ipython",
    "version": 3
   },
   "file_extension": ".py",
   "mimetype": "text/x-python",
   "name": "python",
   "nbconvert_exporter": "python",
   "pygments_lexer": "ipython3",
   "version": "3.7.3"
  }
 },
 "nbformat": 4,
 "nbformat_minor": 2
}
